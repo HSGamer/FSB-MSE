{
 "nbformat": 4,
 "nbformat_minor": 0,
 "metadata": {
  "colab": {
   "provenance": [],
   "mount_file_id": "11dmln9WuCbWa4pSHztkF7T0KqPqiWtHs",
   "authorship_tag": "ABX9TyN17/3Y4IGmze6TeHBYlMrx"
  },
  "kernelspec": {
   "name": "python3",
   "display_name": "Python 3 (ipykernel)",
   "language": "python"
  },
  "language_info": {
   "name": "python"
  }
 },
 "cells": [
  {
   "metadata": {
    "ExecuteTime": {
     "end_time": "2025-03-09T22:02:57.996844Z",
     "start_time": "2025-03-09T22:02:57.994192Z"
    }
   },
   "cell_type": "code",
   "source": "# !pip install lightning vit-pytorch torchmetrics",
   "outputs": [],
   "execution_count": 1
  },
  {
   "metadata": {},
   "cell_type": "markdown",
   "source": "## Import"
  },
  {
   "cell_type": "code",
   "source": [
    "import os\n",
    "\n",
    "import torch\n",
    "import torchmetrics\n",
    "from lightning import Trainer, LightningModule, LightningDataModule\n",
    "from lightning.pytorch.callbacks import EarlyStopping, ModelCheckpoint, TQDMProgressBar\n",
    "from lightning.pytorch.tuner import Tuner\n",
    "from torch.utils.data import DataLoader\n",
    "from torchvision import datasets, transforms\n",
    "from vit_pytorch import SimpleViT"
   ],
   "metadata": {
    "id": "KL2AsFD5_7ty",
    "executionInfo": {
     "status": "ok",
     "timestamp": 1741327135388,
     "user_tz": -420,
     "elapsed": 22419,
     "user": {
      "displayName": "Huynh Tien (HSGamer)",
      "userId": "08227769340085623601"
     }
    },
    "colab": {
     "base_uri": "https://localhost:8080/"
    },
    "outputId": "72bb3f34-9e84-4e5e-c9ab-19b77645eefa",
    "ExecuteTime": {
     "end_time": "2025-03-09T22:03:02.231790Z",
     "start_time": "2025-03-09T22:02:58.047504Z"
    }
   },
   "outputs": [],
   "execution_count": 2
  },
  {
   "metadata": {},
   "cell_type": "markdown",
   "source": "## Hyperparameters"
  },
  {
   "cell_type": "code",
   "source": [
    "IMAGE_SIZE = (384, 288)\n",
    "CLASSES = 2\n",
    "EPOCHS = 100\n",
    "PATCH_SIZE = 16\n",
    "BATCH_SIZE = 22\n",
    "LR = 0.00025\n",
    "TUNING = False\n",
    "BASE_DIR = os.getcwd()\n",
    "# BASE_DIR = \"/content/drive/MyDrive/Colab Notebooks\"\n",
    "ORIGIN_DATA_DIR = BASE_DIR + \"/HeadPoseMixed\"\n",
    "DATA_DIR = BASE_DIR + \"/HeadPoseMixed_output\"\n",
    "ORIGIN_MODEL_PATH = BASE_DIR + \"/model_simple.ckpt\"\n",
    "MODEL_PATH = BASE_DIR + \"/model_simple_output.ckpt\"\n",
    "LOG_DIR = BASE_DIR + \"/log_simple\""
   ],
   "metadata": {
    "id": "2s5F7tKn_kFi",
    "executionInfo": {
     "status": "ok",
     "timestamp": 1741327135389,
     "user_tz": -420,
     "elapsed": 2,
     "user": {
      "displayName": "Huynh Tien (HSGamer)",
      "userId": "08227769340085623601"
     }
    },
    "ExecuteTime": {
     "end_time": "2025-03-09T22:03:02.340497Z",
     "start_time": "2025-03-09T22:03:02.336559Z"
    }
   },
   "outputs": [],
   "execution_count": 3
  },
  {
   "metadata": {},
   "cell_type": "markdown",
   "source": "## Dataset"
  },
  {
   "metadata": {
    "ExecuteTime": {
     "end_time": "2025-03-09T22:03:02.388665Z",
     "start_time": "2025-03-09T22:03:02.381640Z"
    }
   },
   "cell_type": "code",
   "source": [
    "class LitDataModule(LightningDataModule):\n",
    "    def __init__(self, data_dir, batch_size=BATCH_SIZE, num_workers=11):\n",
    "        super().__init__()\n",
    "        self.data_dir = data_dir\n",
    "        self.batch_size = batch_size\n",
    "        self.num_workers = num_workers\n",
    "        self.transform = transforms.Compose([\n",
    "            transforms.Resize(IMAGE_SIZE),\n",
    "            transforms.RandomHorizontalFlip(),\n",
    "            transforms.RandomResizedCrop(IMAGE_SIZE, scale=(0.9, 1.0)),\n",
    "            transforms.RandomApply([transforms.RandomAffine(degrees=0, translate=(0.1, 0.1))], p=0.5),\n",
    "            transforms.ToTensor(),\n",
    "        ])\n",
    "        self.val_transform = transforms.Compose([\n",
    "            transforms.Resize(IMAGE_SIZE),\n",
    "            transforms.ToTensor(),\n",
    "        ])\n",
    "        self.train_dataset = None\n",
    "        self.val_dataset = None\n",
    "        self.test_dataset = None\n",
    "\n",
    "    def setup(self, stage: str):\n",
    "        if stage == \"fit\" or stage is None:\n",
    "            self.train_dataset = datasets.ImageFolder(\n",
    "                root=self.data_dir + \"/train\",\n",
    "                transform=self.transform\n",
    "            )\n",
    "            self.val_dataset = datasets.ImageFolder(\n",
    "                root=self.data_dir + \"/val\",\n",
    "                transform=self.val_transform\n",
    "            )\n",
    "        if stage == \"test\" or stage is None:\n",
    "            self.test_dataset = datasets.ImageFolder(\n",
    "                root=self.data_dir + \"/test\",\n",
    "                transform=self.val_transform\n",
    "            )\n",
    "\n",
    "    def train_dataloader(self):\n",
    "        return DataLoader(self.train_dataset, batch_size=self.batch_size, num_workers=self.num_workers, shuffle=True)\n",
    "\n",
    "    def val_dataloader(self):\n",
    "        return DataLoader(self.val_dataset, batch_size=self.batch_size, num_workers=self.num_workers)\n",
    "\n",
    "    def test_dataloader(self):\n",
    "        return DataLoader(self.test_dataset, batch_size=self.batch_size, num_workers=self.num_workers)\n",
    "\n",
    "origin_data_module = LitDataModule(ORIGIN_DATA_DIR)\n",
    "data_module = LitDataModule(DATA_DIR)"
   ],
   "outputs": [],
   "execution_count": 4
  },
  {
   "metadata": {},
   "cell_type": "markdown",
   "source": "## Model"
  },
  {
   "metadata": {
    "ExecuteTime": {
     "end_time": "2025-03-09T22:03:02.448299Z",
     "start_time": "2025-03-09T22:03:02.440981Z"
    }
   },
   "cell_type": "code",
   "source": [
    "class LitModule(LightningModule):\n",
    "    def __init__(self, num_classes=CLASSES, lr=LR):\n",
    "        super().__init__()\n",
    "        self.model = SimpleViT(\n",
    "            image_size=IMAGE_SIZE,\n",
    "            patch_size=PATCH_SIZE,\n",
    "            channels=3,\n",
    "            num_classes=num_classes,\n",
    "            dim = 512,\n",
    "            depth = 4,\n",
    "            heads = 16,\n",
    "            mlp_dim = 1024,\n",
    "        )\n",
    "        self.lr = lr\n",
    "        self.save_hyperparameters()\n",
    "\n",
    "        self.train_metrics = torchmetrics.MetricCollection({\n",
    "            \"acc\": torchmetrics.Accuracy(task=\"multiclass\", num_classes=num_classes),\n",
    "        }, prefix=\"train_\")\n",
    "        self.val_metrics = self.train_metrics.clone(prefix=\"val_\")\n",
    "        self.test_metrics = self.train_metrics.clone(prefix=\"test_\")\n",
    "\n",
    "    def training_step(self, batch, batch_idx):\n",
    "        x, y = batch\n",
    "        y_pred = self.model(x)\n",
    "        train_loss = torch.nn.functional.cross_entropy(y_pred, y)\n",
    "        self.log(\"train_loss\", train_loss, prog_bar=True)\n",
    "        self.train_metrics.update(y_pred, y)\n",
    "        self.log_dict(self.train_metrics.compute(), prog_bar=True)\n",
    "        return train_loss\n",
    "\n",
    "    def on_train_epoch_end(self):\n",
    "        self.train_metrics.reset()\n",
    "\n",
    "    def configure_optimizers(self):\n",
    "        return torch.optim.Adam(self.parameters(), lr=self.lr)\n",
    "\n",
    "    def validation_step(self, batch, batch_idx):\n",
    "        x, y = batch\n",
    "        y_pred = self.model(x)\n",
    "        val_loss = torch.nn.functional.cross_entropy(y_pred, y)\n",
    "        self.log(\"val_loss\", val_loss, prog_bar=True)\n",
    "        self.val_metrics.update(y_pred, y)\n",
    "        self.log_dict(self.val_metrics.compute(), prog_bar=True)\n",
    "        return val_loss\n",
    "\n",
    "    def on_validation_epoch_end(self):\n",
    "        self.val_metrics.reset()\n",
    "\n",
    "    def test_step(self, batch, batch_idx):\n",
    "        x, y = batch\n",
    "        y_pred = self.model(x)\n",
    "        test_loss = torch.nn.functional.cross_entropy(y_pred, y)\n",
    "        self.log(\"test_loss\", test_loss, prog_bar=True)\n",
    "        self.test_metrics.update(y_pred, y)\n",
    "        self.log_dict(self.test_metrics.compute(), prog_bar=True)\n",
    "        return test_loss\n",
    "\n",
    "    def on_test_epoch_end(self):\n",
    "        self.test_metrics.reset()"
   ],
   "outputs": [],
   "execution_count": 5
  },
  {
   "metadata": {},
   "cell_type": "markdown",
   "source": "## Trainer"
  },
  {
   "metadata": {
    "ExecuteTime": {
     "end_time": "2025-03-09T22:03:02.487159Z",
     "start_time": "2025-03-09T22:03:02.483921Z"
    }
   },
   "cell_type": "code",
   "source": [
    "def get_trainer():\n",
    "    return Trainer(\n",
    "        callbacks=[\n",
    "            EarlyStopping(monitor=\"val_loss\", patience=4),\n",
    "            ModelCheckpoint(monitor=\"val_loss\"),\n",
    "            TQDMProgressBar(leave=True),\n",
    "        ],\n",
    "        max_epochs=EPOCHS,\n",
    "        default_root_dir=LOG_DIR\n",
    "    )"
   ],
   "outputs": [],
   "execution_count": 6
  },
  {
   "metadata": {},
   "cell_type": "markdown",
   "source": "## Train"
  },
  {
   "metadata": {},
   "cell_type": "markdown",
   "source": "### With origin data"
  },
  {
   "metadata": {
    "ExecuteTime": {
     "end_time": "2025-03-09T22:03:02.676434Z",
     "start_time": "2025-03-09T22:03:02.531082Z"
    }
   },
   "cell_type": "code",
   "source": [
    "model = LitModule()\n",
    "trainer = get_trainer()"
   ],
   "outputs": [
    {
     "name": "stderr",
     "output_type": "stream",
     "text": [
      "GPU available: True (cuda), used: True\n",
      "TPU available: False, using: 0 TPU cores\n",
      "HPU available: False, using: 0 HPUs\n"
     ]
    }
   ],
   "execution_count": 7
  },
  {
   "metadata": {},
   "cell_type": "markdown",
   "source": "#### Tuning"
  },
  {
   "metadata": {
    "ExecuteTime": {
     "end_time": "2025-03-09T22:03:02.686982Z",
     "start_time": "2025-03-09T22:03:02.683815Z"
    }
   },
   "cell_type": "code",
   "source": [
    "if TUNING:\n",
    "    tuner = Tuner(trainer)\n",
    "    tuner.scale_batch_size(\n",
    "        model,\n",
    "        mode=\"binsearch\",\n",
    "        max_trials=10,\n",
    "        datamodule=origin_data_module,\n",
    "    )\n",
    "    data_module.batch_size -= 1\n",
    "    print(\"Batch size:\", data_module.batch_size)\n",
    "    lr_finder = tuner.lr_find(\n",
    "        model,\n",
    "        datamodule=origin_data_module,\n",
    "        update_attr=True\n",
    "    )\n",
    "    print(\"Learning rate:\", lr_finder.suggestion())"
   ],
   "outputs": [],
   "execution_count": 8
  },
  {
   "metadata": {},
   "cell_type": "markdown",
   "source": "#### Train"
  },
  {
   "metadata": {
    "ExecuteTime": {
     "end_time": "2025-03-09T22:51:13.813999Z",
     "start_time": "2025-03-09T22:03:02.740835Z"
    }
   },
   "cell_type": "code",
   "source": "trainer.fit(model, datamodule=origin_data_module)",
   "outputs": [
    {
     "name": "stderr",
     "output_type": "stream",
     "text": [
      "LOCAL_RANK: 0 - CUDA_VISIBLE_DEVICES: [0]\n",
      "\n",
      "  | Name          | Type             | Params | Mode \n",
      "-----------------------------------------------------------\n",
      "0 | model         | SimpleViT        | 13.0 M | train\n",
      "1 | train_metrics | MetricCollection | 0      | train\n",
      "2 | val_metrics   | MetricCollection | 0      | train\n",
      "3 | test_metrics  | MetricCollection | 0      | train\n",
      "-----------------------------------------------------------\n",
      "13.0 M    Trainable params\n",
      "0         Non-trainable params\n",
      "13.0 M    Total params\n",
      "51.982    Total estimated model params size (MB)\n",
      "65        Modules in train mode\n",
      "0         Modules in eval mode\n"
     ]
    },
    {
     "data": {
      "text/plain": [
       "Sanity Checking: |          | 0/? [00:00<?, ?it/s]"
      ],
      "application/vnd.jupyter.widget-view+json": {
       "version_major": 2,
       "version_minor": 0,
       "model_id": "3b7f6e5696ba425a96eb7723954beb1d"
      }
     },
     "metadata": {},
     "output_type": "display_data"
    },
    {
     "data": {
      "text/plain": [
       "Training: |          | 0/? [00:00<?, ?it/s]"
      ],
      "application/vnd.jupyter.widget-view+json": {
       "version_major": 2,
       "version_minor": 0,
       "model_id": "b16f5a74c02e46e4a0f164d1acd6a5fe"
      }
     },
     "metadata": {},
     "output_type": "display_data"
    },
    {
     "data": {
      "text/plain": [
       "Training: |          | 0/? [00:00<?, ?it/s]"
      ],
      "application/vnd.jupyter.widget-view+json": {
       "version_major": 2,
       "version_minor": 0,
       "model_id": "41f148c4bbd140d189fd1813222324d0"
      }
     },
     "metadata": {},
     "output_type": "display_data"
    },
    {
     "data": {
      "text/plain": [
       "Validation: |          | 0/? [00:00<?, ?it/s]"
      ],
      "application/vnd.jupyter.widget-view+json": {
       "version_major": 2,
       "version_minor": 0,
       "model_id": "a36a3f6669d444989c10f8fd3c4cf8b8"
      }
     },
     "metadata": {},
     "output_type": "display_data"
    },
    {
     "data": {
      "text/plain": [
       "Training: |          | 0/? [00:00<?, ?it/s]"
      ],
      "application/vnd.jupyter.widget-view+json": {
       "version_major": 2,
       "version_minor": 0,
       "model_id": "71d11df0b0b748c7ae8310c6bfe3c56c"
      }
     },
     "metadata": {},
     "output_type": "display_data"
    },
    {
     "data": {
      "text/plain": [
       "Validation: |          | 0/? [00:00<?, ?it/s]"
      ],
      "application/vnd.jupyter.widget-view+json": {
       "version_major": 2,
       "version_minor": 0,
       "model_id": "3326d18dd08b418799b35237afe7d0f7"
      }
     },
     "metadata": {},
     "output_type": "display_data"
    },
    {
     "data": {
      "text/plain": [
       "Training: |          | 0/? [00:00<?, ?it/s]"
      ],
      "application/vnd.jupyter.widget-view+json": {
       "version_major": 2,
       "version_minor": 0,
       "model_id": "b79e84fc6c924909837935d43084e3ca"
      }
     },
     "metadata": {},
     "output_type": "display_data"
    },
    {
     "data": {
      "text/plain": [
       "Validation: |          | 0/? [00:00<?, ?it/s]"
      ],
      "application/vnd.jupyter.widget-view+json": {
       "version_major": 2,
       "version_minor": 0,
       "model_id": "be52d8bf72a147dfacbf76df399d4fd8"
      }
     },
     "metadata": {},
     "output_type": "display_data"
    },
    {
     "data": {
      "text/plain": [
       "Training: |          | 0/? [00:00<?, ?it/s]"
      ],
      "application/vnd.jupyter.widget-view+json": {
       "version_major": 2,
       "version_minor": 0,
       "model_id": "f37d4fee57904738969d0b9e7470774a"
      }
     },
     "metadata": {},
     "output_type": "display_data"
    },
    {
     "data": {
      "text/plain": [
       "Validation: |          | 0/? [00:00<?, ?it/s]"
      ],
      "application/vnd.jupyter.widget-view+json": {
       "version_major": 2,
       "version_minor": 0,
       "model_id": "685218507096423392c104d46bbfada4"
      }
     },
     "metadata": {},
     "output_type": "display_data"
    },
    {
     "data": {
      "text/plain": [
       "Training: |          | 0/? [00:00<?, ?it/s]"
      ],
      "application/vnd.jupyter.widget-view+json": {
       "version_major": 2,
       "version_minor": 0,
       "model_id": "1eceb838e6a546478d9810030e40823b"
      }
     },
     "metadata": {},
     "output_type": "display_data"
    },
    {
     "data": {
      "text/plain": [
       "Validation: |          | 0/? [00:00<?, ?it/s]"
      ],
      "application/vnd.jupyter.widget-view+json": {
       "version_major": 2,
       "version_minor": 0,
       "model_id": "6750f77aaffe41b2be2465c109f28099"
      }
     },
     "metadata": {},
     "output_type": "display_data"
    },
    {
     "data": {
      "text/plain": [
       "Training: |          | 0/? [00:00<?, ?it/s]"
      ],
      "application/vnd.jupyter.widget-view+json": {
       "version_major": 2,
       "version_minor": 0,
       "model_id": "c054703d5bb54949867366dc30a3c4de"
      }
     },
     "metadata": {},
     "output_type": "display_data"
    },
    {
     "data": {
      "text/plain": [
       "Validation: |          | 0/? [00:00<?, ?it/s]"
      ],
      "application/vnd.jupyter.widget-view+json": {
       "version_major": 2,
       "version_minor": 0,
       "model_id": "1209191a82fd4ce695e36a5c903939ad"
      }
     },
     "metadata": {},
     "output_type": "display_data"
    },
    {
     "data": {
      "text/plain": [
       "Training: |          | 0/? [00:00<?, ?it/s]"
      ],
      "application/vnd.jupyter.widget-view+json": {
       "version_major": 2,
       "version_minor": 0,
       "model_id": "6df38f4d03014534af2d6bd4da159d62"
      }
     },
     "metadata": {},
     "output_type": "display_data"
    },
    {
     "data": {
      "text/plain": [
       "Validation: |          | 0/? [00:00<?, ?it/s]"
      ],
      "application/vnd.jupyter.widget-view+json": {
       "version_major": 2,
       "version_minor": 0,
       "model_id": "7a90c9b127b6445380d646a11df794ae"
      }
     },
     "metadata": {},
     "output_type": "display_data"
    },
    {
     "data": {
      "text/plain": [
       "Training: |          | 0/? [00:00<?, ?it/s]"
      ],
      "application/vnd.jupyter.widget-view+json": {
       "version_major": 2,
       "version_minor": 0,
       "model_id": "68d7d364d03742cfa922fbf64e85593f"
      }
     },
     "metadata": {},
     "output_type": "display_data"
    },
    {
     "data": {
      "text/plain": [
       "Validation: |          | 0/? [00:00<?, ?it/s]"
      ],
      "application/vnd.jupyter.widget-view+json": {
       "version_major": 2,
       "version_minor": 0,
       "model_id": "416c681bc1f24d13b8d95e580eae67e8"
      }
     },
     "metadata": {},
     "output_type": "display_data"
    },
    {
     "data": {
      "text/plain": [
       "Training: |          | 0/? [00:00<?, ?it/s]"
      ],
      "application/vnd.jupyter.widget-view+json": {
       "version_major": 2,
       "version_minor": 0,
       "model_id": "5e05e3b3d1d644e48828682b828c5a64"
      }
     },
     "metadata": {},
     "output_type": "display_data"
    },
    {
     "data": {
      "text/plain": [
       "Validation: |          | 0/? [00:00<?, ?it/s]"
      ],
      "application/vnd.jupyter.widget-view+json": {
       "version_major": 2,
       "version_minor": 0,
       "model_id": "d950b7139a8e401cbe7cf93ba8b2558b"
      }
     },
     "metadata": {},
     "output_type": "display_data"
    },
    {
     "data": {
      "text/plain": [
       "Training: |          | 0/? [00:00<?, ?it/s]"
      ],
      "application/vnd.jupyter.widget-view+json": {
       "version_major": 2,
       "version_minor": 0,
       "model_id": "28f12df6f8d340268a1b6314ac09a08b"
      }
     },
     "metadata": {},
     "output_type": "display_data"
    },
    {
     "data": {
      "text/plain": [
       "Validation: |          | 0/? [00:00<?, ?it/s]"
      ],
      "application/vnd.jupyter.widget-view+json": {
       "version_major": 2,
       "version_minor": 0,
       "model_id": "36f9d4db27584a8ba08ab57a57deaceb"
      }
     },
     "metadata": {},
     "output_type": "display_data"
    },
    {
     "data": {
      "text/plain": [
       "Training: |          | 0/? [00:00<?, ?it/s]"
      ],
      "application/vnd.jupyter.widget-view+json": {
       "version_major": 2,
       "version_minor": 0,
       "model_id": "66d56212131241398de3931b4f1fd665"
      }
     },
     "metadata": {},
     "output_type": "display_data"
    },
    {
     "data": {
      "text/plain": [
       "Validation: |          | 0/? [00:00<?, ?it/s]"
      ],
      "application/vnd.jupyter.widget-view+json": {
       "version_major": 2,
       "version_minor": 0,
       "model_id": "1067f8dad7e04fbc9cd4f6c6866c2dbf"
      }
     },
     "metadata": {},
     "output_type": "display_data"
    },
    {
     "data": {
      "text/plain": [
       "Training: |          | 0/? [00:00<?, ?it/s]"
      ],
      "application/vnd.jupyter.widget-view+json": {
       "version_major": 2,
       "version_minor": 0,
       "model_id": "7f38e39edc3944928d4d1f757a68c104"
      }
     },
     "metadata": {},
     "output_type": "display_data"
    },
    {
     "data": {
      "text/plain": [
       "Validation: |          | 0/? [00:00<?, ?it/s]"
      ],
      "application/vnd.jupyter.widget-view+json": {
       "version_major": 2,
       "version_minor": 0,
       "model_id": "c0c88ec712c643b0bf46978b50766fed"
      }
     },
     "metadata": {},
     "output_type": "display_data"
    },
    {
     "data": {
      "text/plain": [
       "Training: |          | 0/? [00:00<?, ?it/s]"
      ],
      "application/vnd.jupyter.widget-view+json": {
       "version_major": 2,
       "version_minor": 0,
       "model_id": "54de5d58d7e64e2aa04a96d103438709"
      }
     },
     "metadata": {},
     "output_type": "display_data"
    },
    {
     "data": {
      "text/plain": [
       "Validation: |          | 0/? [00:00<?, ?it/s]"
      ],
      "application/vnd.jupyter.widget-view+json": {
       "version_major": 2,
       "version_minor": 0,
       "model_id": "2c139f79192d4f23aef3f2be942283f2"
      }
     },
     "metadata": {},
     "output_type": "display_data"
    },
    {
     "data": {
      "text/plain": [
       "Training: |          | 0/? [00:00<?, ?it/s]"
      ],
      "application/vnd.jupyter.widget-view+json": {
       "version_major": 2,
       "version_minor": 0,
       "model_id": "c07b0c95fca64efdb36f3a208c9af6f9"
      }
     },
     "metadata": {},
     "output_type": "display_data"
    },
    {
     "data": {
      "text/plain": [
       "Validation: |          | 0/? [00:00<?, ?it/s]"
      ],
      "application/vnd.jupyter.widget-view+json": {
       "version_major": 2,
       "version_minor": 0,
       "model_id": "2b4f29a996c14f3d984ff2ca195fb84b"
      }
     },
     "metadata": {},
     "output_type": "display_data"
    },
    {
     "data": {
      "text/plain": [
       "Training: |          | 0/? [00:00<?, ?it/s]"
      ],
      "application/vnd.jupyter.widget-view+json": {
       "version_major": 2,
       "version_minor": 0,
       "model_id": "9f2259785da04069955338e197e8a049"
      }
     },
     "metadata": {},
     "output_type": "display_data"
    },
    {
     "data": {
      "text/plain": [
       "Validation: |          | 0/? [00:00<?, ?it/s]"
      ],
      "application/vnd.jupyter.widget-view+json": {
       "version_major": 2,
       "version_minor": 0,
       "model_id": "bfe3a08e2c1d4ff5b1b6a097b9189a98"
      }
     },
     "metadata": {},
     "output_type": "display_data"
    },
    {
     "data": {
      "text/plain": [
       "Training: |          | 0/? [00:00<?, ?it/s]"
      ],
      "application/vnd.jupyter.widget-view+json": {
       "version_major": 2,
       "version_minor": 0,
       "model_id": "72a4484d39544e31be017559ae7f3642"
      }
     },
     "metadata": {},
     "output_type": "display_data"
    },
    {
     "data": {
      "text/plain": [
       "Validation: |          | 0/? [00:00<?, ?it/s]"
      ],
      "application/vnd.jupyter.widget-view+json": {
       "version_major": 2,
       "version_minor": 0,
       "model_id": "c5f688e733a74a4099feeb35ba5f0f51"
      }
     },
     "metadata": {},
     "output_type": "display_data"
    }
   ],
   "execution_count": 9
  },
  {
   "metadata": {
    "ExecuteTime": {
     "end_time": "2025-03-09T22:51:14.086670Z",
     "start_time": "2025-03-09T22:51:13.849276Z"
    }
   },
   "cell_type": "code",
   "source": "trainer.save_checkpoint(ORIGIN_MODEL_PATH)",
   "outputs": [],
   "execution_count": 10
  },
  {
   "metadata": {},
   "cell_type": "markdown",
   "source": "#### Test"
  },
  {
   "metadata": {
    "ExecuteTime": {
     "end_time": "2025-03-09T22:51:24.787462Z",
     "start_time": "2025-03-09T22:51:14.091480Z"
    }
   },
   "cell_type": "code",
   "source": "trainer.test(model, datamodule=origin_data_module)",
   "outputs": [
    {
     "name": "stderr",
     "output_type": "stream",
     "text": [
      "LOCAL_RANK: 0 - CUDA_VISIBLE_DEVICES: [0]\n"
     ]
    },
    {
     "data": {
      "text/plain": [
       "Testing: |          | 0/? [00:00<?, ?it/s]"
      ],
      "application/vnd.jupyter.widget-view+json": {
       "version_major": 2,
       "version_minor": 0,
       "model_id": "b7705c0a67284804832a2a271f765570"
      }
     },
     "metadata": {},
     "output_type": "display_data"
    },
    {
     "name": "stdout",
     "output_type": "stream",
     "text": [
      "────────────────────────────────────────────────────────────────────────────────────────────────────────────────────────\n",
      "       Test metric             DataLoader 0\n",
      "────────────────────────────────────────────────────────────────────────────────────────────────────────────────────────\n",
      "        test_acc            0.9604904651641846\n",
      "        test_loss           0.21020059287548065\n",
      "────────────────────────────────────────────────────────────────────────────────────────────────────────────────────────\n"
     ]
    },
    {
     "data": {
      "text/plain": [
       "[{'test_loss': 0.21020059287548065, 'test_acc': 0.9604904651641846}]"
      ]
     },
     "execution_count": 11,
     "metadata": {},
     "output_type": "execute_result"
    }
   ],
   "execution_count": 11
  },
  {
   "metadata": {
    "ExecuteTime": {
     "end_time": "2025-03-09T22:51:56.045447Z",
     "start_time": "2025-03-09T22:51:24.795092Z"
    }
   },
   "cell_type": "code",
   "source": "trainer.test(model, datamodule=data_module)",
   "outputs": [
    {
     "name": "stderr",
     "output_type": "stream",
     "text": [
      "LOCAL_RANK: 0 - CUDA_VISIBLE_DEVICES: [0]\n"
     ]
    },
    {
     "data": {
      "text/plain": [
       "Testing: |          | 0/? [00:00<?, ?it/s]"
      ],
      "application/vnd.jupyter.widget-view+json": {
       "version_major": 2,
       "version_minor": 0,
       "model_id": "cdfead78836d43b391712778f76b8e0e"
      }
     },
     "metadata": {},
     "output_type": "display_data"
    },
    {
     "name": "stdout",
     "output_type": "stream",
     "text": [
      "────────────────────────────────────────────────────────────────────────────────────────────────────────────────────────\n",
      "       Test metric             DataLoader 0\n",
      "────────────────────────────────────────────────────────────────────────────────────────────────────────────────────────\n",
      "        test_acc            0.9053906798362732\n",
      "        test_loss           0.39260807633399963\n",
      "────────────────────────────────────────────────────────────────────────────────────────────────────────────────────────\n"
     ]
    },
    {
     "data": {
      "text/plain": [
       "[{'test_loss': 0.39260807633399963, 'test_acc': 0.9053906798362732}]"
      ]
     },
     "execution_count": 12,
     "metadata": {},
     "output_type": "execute_result"
    }
   ],
   "execution_count": 12
  },
  {
   "metadata": {},
   "cell_type": "markdown",
   "source": "### With output data"
  },
  {
   "metadata": {
    "ExecuteTime": {
     "end_time": "2025-03-09T22:51:56.268922Z",
     "start_time": "2025-03-09T22:51:56.057186Z"
    }
   },
   "cell_type": "code",
   "source": [
    "model = LitModule.load_from_checkpoint(ORIGIN_MODEL_PATH)\n",
    "trainer = get_trainer()"
   ],
   "outputs": [
    {
     "name": "stderr",
     "output_type": "stream",
     "text": [
      "GPU available: True (cuda), used: True\n",
      "TPU available: False, using: 0 TPU cores\n",
      "HPU available: False, using: 0 HPUs\n"
     ]
    }
   ],
   "execution_count": 13
  },
  {
   "metadata": {},
   "cell_type": "markdown",
   "source": "#### Train"
  },
  {
   "metadata": {
    "ExecuteTime": {
     "end_time": "2025-03-10T00:04:03.447500Z",
     "start_time": "2025-03-09T22:51:56.275697Z"
    }
   },
   "cell_type": "code",
   "source": "trainer.fit(model, datamodule=data_module)",
   "outputs": [
    {
     "name": "stderr",
     "output_type": "stream",
     "text": [
      "LOCAL_RANK: 0 - CUDA_VISIBLE_DEVICES: [0]\n",
      "\n",
      "  | Name          | Type             | Params | Mode \n",
      "-----------------------------------------------------------\n",
      "0 | model         | SimpleViT        | 13.0 M | train\n",
      "1 | train_metrics | MetricCollection | 0      | train\n",
      "2 | val_metrics   | MetricCollection | 0      | train\n",
      "3 | test_metrics  | MetricCollection | 0      | train\n",
      "-----------------------------------------------------------\n",
      "13.0 M    Trainable params\n",
      "0         Non-trainable params\n",
      "13.0 M    Total params\n",
      "51.982    Total estimated model params size (MB)\n",
      "65        Modules in train mode\n",
      "0         Modules in eval mode\n"
     ]
    },
    {
     "data": {
      "text/plain": [
       "Sanity Checking: |          | 0/? [00:00<?, ?it/s]"
      ],
      "application/vnd.jupyter.widget-view+json": {
       "version_major": 2,
       "version_minor": 0,
       "model_id": "425c8378ac6943ff832363a28e4a38c7"
      }
     },
     "metadata": {},
     "output_type": "display_data"
    },
    {
     "data": {
      "text/plain": [
       "Training: |          | 0/? [00:00<?, ?it/s]"
      ],
      "application/vnd.jupyter.widget-view+json": {
       "version_major": 2,
       "version_minor": 0,
       "model_id": "c013fb890a8b4b2396a8dd4fa0a8a607"
      }
     },
     "metadata": {},
     "output_type": "display_data"
    },
    {
     "data": {
      "text/plain": [
       "Training: |          | 0/? [00:00<?, ?it/s]"
      ],
      "application/vnd.jupyter.widget-view+json": {
       "version_major": 2,
       "version_minor": 0,
       "model_id": "2371b291db0f4deaab4855e3c54a545a"
      }
     },
     "metadata": {},
     "output_type": "display_data"
    },
    {
     "data": {
      "text/plain": [
       "Validation: |          | 0/? [00:00<?, ?it/s]"
      ],
      "application/vnd.jupyter.widget-view+json": {
       "version_major": 2,
       "version_minor": 0,
       "model_id": "dd6236c19bcb4c96abdb7ea6a3ce0730"
      }
     },
     "metadata": {},
     "output_type": "display_data"
    },
    {
     "data": {
      "text/plain": [
       "Training: |          | 0/? [00:00<?, ?it/s]"
      ],
      "application/vnd.jupyter.widget-view+json": {
       "version_major": 2,
       "version_minor": 0,
       "model_id": "c1910570f3f54c9db409e1034efb7826"
      }
     },
     "metadata": {},
     "output_type": "display_data"
    },
    {
     "data": {
      "text/plain": [
       "Validation: |          | 0/? [00:00<?, ?it/s]"
      ],
      "application/vnd.jupyter.widget-view+json": {
       "version_major": 2,
       "version_minor": 0,
       "model_id": "adc8922361e24fb9aa51782e57b74601"
      }
     },
     "metadata": {},
     "output_type": "display_data"
    },
    {
     "data": {
      "text/plain": [
       "Training: |          | 0/? [00:00<?, ?it/s]"
      ],
      "application/vnd.jupyter.widget-view+json": {
       "version_major": 2,
       "version_minor": 0,
       "model_id": "2e01e4290f104f299029098ce546a138"
      }
     },
     "metadata": {},
     "output_type": "display_data"
    },
    {
     "data": {
      "text/plain": [
       "Validation: |          | 0/? [00:00<?, ?it/s]"
      ],
      "application/vnd.jupyter.widget-view+json": {
       "version_major": 2,
       "version_minor": 0,
       "model_id": "28345d8e131840c49ddefe153f37594b"
      }
     },
     "metadata": {},
     "output_type": "display_data"
    },
    {
     "data": {
      "text/plain": [
       "Training: |          | 0/? [00:00<?, ?it/s]"
      ],
      "application/vnd.jupyter.widget-view+json": {
       "version_major": 2,
       "version_minor": 0,
       "model_id": "7c5399ac8001465f82f83c47ab157cb2"
      }
     },
     "metadata": {},
     "output_type": "display_data"
    },
    {
     "data": {
      "text/plain": [
       "Validation: |          | 0/? [00:00<?, ?it/s]"
      ],
      "application/vnd.jupyter.widget-view+json": {
       "version_major": 2,
       "version_minor": 0,
       "model_id": "322435fc10dc480fbdc01b9d2f8593ad"
      }
     },
     "metadata": {},
     "output_type": "display_data"
    },
    {
     "data": {
      "text/plain": [
       "Training: |          | 0/? [00:00<?, ?it/s]"
      ],
      "application/vnd.jupyter.widget-view+json": {
       "version_major": 2,
       "version_minor": 0,
       "model_id": "732a6db1f37140f79dd6cf352ddb9a56"
      }
     },
     "metadata": {},
     "output_type": "display_data"
    },
    {
     "data": {
      "text/plain": [
       "Validation: |          | 0/? [00:00<?, ?it/s]"
      ],
      "application/vnd.jupyter.widget-view+json": {
       "version_major": 2,
       "version_minor": 0,
       "model_id": "ebf8f6e223b84381af3cab483e951880"
      }
     },
     "metadata": {},
     "output_type": "display_data"
    },
    {
     "data": {
      "text/plain": [
       "Training: |          | 0/? [00:00<?, ?it/s]"
      ],
      "application/vnd.jupyter.widget-view+json": {
       "version_major": 2,
       "version_minor": 0,
       "model_id": "3d014bcc8cf44661910b06ad5c550ee1"
      }
     },
     "metadata": {},
     "output_type": "display_data"
    },
    {
     "data": {
      "text/plain": [
       "Validation: |          | 0/? [00:00<?, ?it/s]"
      ],
      "application/vnd.jupyter.widget-view+json": {
       "version_major": 2,
       "version_minor": 0,
       "model_id": "964efe607ca646499f132062be8ddfa8"
      }
     },
     "metadata": {},
     "output_type": "display_data"
    },
    {
     "data": {
      "text/plain": [
       "Training: |          | 0/? [00:00<?, ?it/s]"
      ],
      "application/vnd.jupyter.widget-view+json": {
       "version_major": 2,
       "version_minor": 0,
       "model_id": "9c1333eb317b45cab9c82e1b77e6cc15"
      }
     },
     "metadata": {},
     "output_type": "display_data"
    },
    {
     "data": {
      "text/plain": [
       "Validation: |          | 0/? [00:00<?, ?it/s]"
      ],
      "application/vnd.jupyter.widget-view+json": {
       "version_major": 2,
       "version_minor": 0,
       "model_id": "1ba464a9bb954e48959d05c46e33cdaf"
      }
     },
     "metadata": {},
     "output_type": "display_data"
    },
    {
     "data": {
      "text/plain": [
       "Training: |          | 0/? [00:00<?, ?it/s]"
      ],
      "application/vnd.jupyter.widget-view+json": {
       "version_major": 2,
       "version_minor": 0,
       "model_id": "f361326b5d6a4111aeaf27a44bfdc484"
      }
     },
     "metadata": {},
     "output_type": "display_data"
    },
    {
     "data": {
      "text/plain": [
       "Validation: |          | 0/? [00:00<?, ?it/s]"
      ],
      "application/vnd.jupyter.widget-view+json": {
       "version_major": 2,
       "version_minor": 0,
       "model_id": "01939926f54749af88c4d49511053a43"
      }
     },
     "metadata": {},
     "output_type": "display_data"
    }
   ],
   "execution_count": 14
  },
  {
   "metadata": {
    "ExecuteTime": {
     "end_time": "2025-03-10T00:04:03.688281Z",
     "start_time": "2025-03-10T00:04:03.479729Z"
    }
   },
   "cell_type": "code",
   "source": "trainer.save_checkpoint(MODEL_PATH)",
   "outputs": [],
   "execution_count": 15
  },
  {
   "metadata": {},
   "cell_type": "markdown",
   "source": "#### Test"
  },
  {
   "metadata": {
    "ExecuteTime": {
     "end_time": "2025-03-10T00:04:14.544748Z",
     "start_time": "2025-03-10T00:04:03.725079Z"
    }
   },
   "cell_type": "code",
   "source": "trainer.test(model, datamodule=origin_data_module)",
   "outputs": [
    {
     "name": "stderr",
     "output_type": "stream",
     "text": [
      "LOCAL_RANK: 0 - CUDA_VISIBLE_DEVICES: [0]\n"
     ]
    },
    {
     "data": {
      "text/plain": [
       "Testing: |          | 0/? [00:00<?, ?it/s]"
      ],
      "application/vnd.jupyter.widget-view+json": {
       "version_major": 2,
       "version_minor": 0,
       "model_id": "de8248b2bc6143c588a2bb225801bbd3"
      }
     },
     "metadata": {},
     "output_type": "display_data"
    },
    {
     "name": "stdout",
     "output_type": "stream",
     "text": [
      "────────────────────────────────────────────────────────────────────────────────────────────────────────────────────────\n",
      "       Test metric             DataLoader 0\n",
      "────────────────────────────────────────────────────────────────────────────────────────────────────────────────────────\n",
      "        test_acc            0.9562307596206665\n",
      "        test_loss           0.21375273168087006\n",
      "────────────────────────────────────────────────────────────────────────────────────────────────────────────────────────\n"
     ]
    },
    {
     "data": {
      "text/plain": [
       "[{'test_loss': 0.21375273168087006, 'test_acc': 0.9562307596206665}]"
      ]
     },
     "execution_count": 16,
     "metadata": {},
     "output_type": "execute_result"
    }
   ],
   "execution_count": 16
  },
  {
   "metadata": {
    "ExecuteTime": {
     "end_time": "2025-03-10T00:04:46.101591Z",
     "start_time": "2025-03-10T00:04:14.552591Z"
    }
   },
   "cell_type": "code",
   "source": "trainer.test(model, datamodule=data_module)",
   "outputs": [
    {
     "name": "stderr",
     "output_type": "stream",
     "text": [
      "LOCAL_RANK: 0 - CUDA_VISIBLE_DEVICES: [0]\n"
     ]
    },
    {
     "data": {
      "text/plain": [
       "Testing: |          | 0/? [00:00<?, ?it/s]"
      ],
      "application/vnd.jupyter.widget-view+json": {
       "version_major": 2,
       "version_minor": 0,
       "model_id": "d7dc61b6b32d41d7bd057b904a92fa4a"
      }
     },
     "metadata": {},
     "output_type": "display_data"
    },
    {
     "name": "stdout",
     "output_type": "stream",
     "text": [
      "────────────────────────────────────────────────────────────────────────────────────────────────────────────────────────\n",
      "       Test metric             DataLoader 0\n",
      "────────────────────────────────────────────────────────────────────────────────────────────────────────────────────────\n",
      "        test_acc            0.9520098567008972\n",
      "        test_loss           0.23012612760066986\n",
      "────────────────────────────────────────────────────────────────────────────────────────────────────────────────────────\n"
     ]
    },
    {
     "data": {
      "text/plain": [
       "[{'test_loss': 0.23012612760066986, 'test_acc': 0.9520098567008972}]"
      ]
     },
     "execution_count": 17,
     "metadata": {},
     "output_type": "execute_result"
    }
   ],
   "execution_count": 17
  }
 ]
}
