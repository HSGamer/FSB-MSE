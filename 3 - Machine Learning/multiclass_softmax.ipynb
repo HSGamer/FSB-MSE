{
 "cells": [
  {
   "cell_type": "code",
   "id": "initial_id",
   "metadata": {
    "collapsed": true,
    "ExecuteTime": {
     "end_time": "2025-01-16T21:10:02.799361Z",
     "start_time": "2025-01-16T21:10:02.796143Z"
    }
   },
   "source": [
    "import numpy as np\n",
    "import matplotlib.pyplot as plt\n",
    "from sklearn.datasets import load_digits\n",
    "from sklearn.model_selection import train_test_split\n",
    "\n",
    "%matplotlib inline"
   ],
   "outputs": [],
   "execution_count": 82
  },
  {
   "metadata": {},
   "cell_type": "markdown",
   "source": "# Load dataset",
   "id": "c676d93df7f2d50c"
  },
  {
   "metadata": {
    "ExecuteTime": {
     "end_time": "2025-01-16T21:10:02.852629Z",
     "start_time": "2025-01-16T21:10:02.843080Z"
    }
   },
   "cell_type": "code",
   "source": [
    "digits = load_digits()\n",
    "x_origin = digits.data\n",
    "y_origin = digits.target\n",
    "num_classes = 10\n",
    "\n",
    "print(\"x_origin.shape:\", x_origin.shape)\n",
    "print(\"y_origin.shape:\", y_origin.shape)"
   ],
   "id": "71af72ff083d3d02",
   "outputs": [
    {
     "name": "stdout",
     "output_type": "stream",
     "text": [
      "x_origin.shape: (1797, 64)\n",
      "y_origin.shape: (1797,)\n"
     ]
    }
   ],
   "execution_count": 83
  },
  {
   "metadata": {
    "ExecuteTime": {
     "end_time": "2025-01-16T21:10:02.913546Z",
     "start_time": "2025-01-16T21:10:02.900852Z"
    }
   },
   "cell_type": "code",
   "source": [
    "X_train, X_test, y_train, y_test = train_test_split(x_origin, y_origin, test_size=0.2, shuffle=True, random_state=42)\n",
    "print(\"X_train.shape:\", X_train.shape) # (samples, features)\n",
    "print(\"y_train.shape:\", y_train.shape) # (samples,)\n",
    "print(\"X_test.shape:\", X_test.shape)\n",
    "print(\"y_test.shape:\", y_test.shape)"
   ],
   "id": "658b8e779f220d7c",
   "outputs": [
    {
     "name": "stdout",
     "output_type": "stream",
     "text": [
      "X_train.shape: (1437, 64)\n",
      "y_train.shape: (1437,)\n",
      "X_test.shape: (360, 64)\n",
      "y_test.shape: (360,)\n"
     ]
    }
   ],
   "execution_count": 84
  },
  {
   "metadata": {
    "ExecuteTime": {
     "end_time": "2025-01-16T21:10:03.061586Z",
     "start_time": "2025-01-16T21:10:02.968124Z"
    }
   },
   "cell_type": "code",
   "source": [
    "index = 2\n",
    "print(\"y_train[index]:\", y_train[index])\n",
    "plt.imshow(X_train[index].reshape(8, 8), cmap='gray')\n",
    "plt.show()"
   ],
   "id": "3fc4f8b13fb8a23",
   "outputs": [
    {
     "name": "stdout",
     "output_type": "stream",
     "text": [
      "y_train[index]: 0\n"
     ]
    },
    {
     "data": {
      "text/plain": [
       "<Figure size 640x480 with 1 Axes>"
      ],
      "image/png": "[encoded data removed]"
     },
     "metadata": {},
     "output_type": "display_data"
    }
   ],
   "execution_count": 85
  },
  {
   "metadata": {},
   "cell_type": "markdown",
   "source": "# Reshape the data",
   "id": "318768089ceaa62"
  },
  {
   "metadata": {
    "ExecuteTime": {
     "end_time": "2025-01-16T21:10:03.083979Z",
     "start_time": "2025-01-16T21:10:03.081416Z"
    }
   },
   "cell_type": "code",
   "source": [
    "m_train = X_train.shape[0]\n",
    "m_test = X_test.shape[0]\n",
    "X_train = X_train.T\n",
    "X_test = X_test.T\n",
    "y_train = y_train.reshape(1, m_train)\n",
    "y_test = y_test.reshape(1, m_test)\n",
    "\n",
    "print(\"X_train.shape:\", X_train.shape)\n",
    "print(\"y_train.shape:\", y_train.shape)\n",
    "print(\"X_test.shape:\", X_test.shape)\n",
    "print(\"y_test.shape:\", y_test.shape)"
   ],
   "id": "4b6904a0980744c2",
   "outputs": [
    {
     "name": "stdout",
     "output_type": "stream",
     "text": [
      "X_train.shape: (64, 1437)\n",
      "y_train.shape: (1, 1437)\n",
      "X_test.shape: (64, 360)\n",
      "y_test.shape: (1, 360)\n"
     ]
    }
   ],
   "execution_count": 86
  },
  {
   "metadata": {},
   "cell_type": "markdown",
   "source": "The shape of the data (x) is (n, m) and the label (y)is (1, m), where n is the number of features and m is the number of samples.",
   "id": "c876ebecd1408f16"
  },
  {
   "metadata": {
    "ExecuteTime": {
     "end_time": "2025-01-16T21:10:03.131375Z",
     "start_time": "2025-01-16T21:10:03.125446Z"
    }
   },
   "cell_type": "code",
   "source": [
    "def one_hot(y):\n",
    "    m = y.shape[1]\n",
    "    y_one_hot = np.zeros((num_classes, m))\n",
    "    for i in range(m):\n",
    "        y_one_hot[y[0][i], i] = 1\n",
    "    return y_one_hot\n",
    "\n",
    "y_train_one_hot = one_hot(y_train)\n",
    "y_test_one_hot = one_hot(y_test)\n",
    "\n",
    "print(\"y_train_one_hot.shape:\", y_train_one_hot.shape)\n",
    "print(\"y_test_one_hot.shape:\", y_test_one_hot.shape)\n",
    "\n",
    "for i in range(10):\n",
    "    print(\"y_train_one_hot[:,\", i, \"]:\", y_train_one_hot[:, i], \"(\", y_train[:, i], \")\")"
   ],
   "id": "dbab3ba6515a828c",
   "outputs": [
    {
     "name": "stdout",
     "output_type": "stream",
     "text": [
      "y_train_one_hot.shape: (10, 1437)\n",
      "y_test_one_hot.shape: (10, 360)\n",
      "y_train_one_hot[:, 0 ]: [0. 0. 0. 0. 0. 0. 1. 0. 0. 0.] ( [6] )\n",
      "y_train_one_hot[:, 1 ]: [1. 0. 0. 0. 0. 0. 0. 0. 0. 0.] ( [0] )\n",
      "y_train_one_hot[:, 2 ]: [1. 0. 0. 0. 0. 0. 0. 0. 0. 0.] ( [0] )\n",
      "y_train_one_hot[:, 3 ]: [0. 0. 0. 1. 0. 0. 0. 0. 0. 0.] ( [3] )\n",
      "y_train_one_hot[:, 4 ]: [1. 0. 0. 0. 0. 0. 0. 0. 0. 0.] ( [0] )\n",
      "y_train_one_hot[:, 5 ]: [0. 0. 0. 0. 0. 1. 0. 0. 0. 0.] ( [5] )\n",
      "y_train_one_hot[:, 6 ]: [1. 0. 0. 0. 0. 0. 0. 0. 0. 0.] ( [0] )\n",
      "y_train_one_hot[:, 7 ]: [1. 0. 0. 0. 0. 0. 0. 0. 0. 0.] ( [0] )\n",
      "y_train_one_hot[:, 8 ]: [0. 0. 0. 0. 1. 0. 0. 0. 0. 0.] ( [4] )\n",
      "y_train_one_hot[:, 9 ]: [0. 1. 0. 0. 0. 0. 0. 0. 0. 0.] ( [1] )\n"
     ]
    }
   ],
   "execution_count": 87
  },
  {
   "metadata": {},
   "cell_type": "markdown",
   "source": "# Prepare the functions",
   "id": "629083dee574e64e"
  },
  {
   "metadata": {
    "ExecuteTime": {
     "end_time": "2025-01-16T21:10:03.177681Z",
     "start_time": "2025-01-16T21:10:03.174951Z"
    }
   },
   "cell_type": "code",
   "source": [
    "def softmax(z):\n",
    "    z_exp = np.exp(z)\n",
    "    return z_exp / np.sum(z_exp, axis=0, keepdims=True)"
   ],
   "id": "54ae5c27a36c0500",
   "outputs": [],
   "execution_count": 88
  },
  {
   "metadata": {
    "ExecuteTime": {
     "end_time": "2025-01-16T21:10:03.222186Z",
     "start_time": "2025-01-16T21:10:03.219660Z"
    }
   },
   "cell_type": "code",
   "source": [
    "def cross_entropy_loss(y_pred, y_true):\n",
    "    m = y_true.shape[1]\n",
    "    return (-1 / m) * np.sum(y_true * np.log(y_pred))"
   ],
   "id": "48d2f7178785090e",
   "outputs": [],
   "execution_count": 89
  },
  {
   "metadata": {
    "ExecuteTime": {
     "end_time": "2025-01-16T21:10:03.265887Z",
     "start_time": "2025-01-16T21:10:03.263699Z"
    }
   },
   "cell_type": "code",
   "source": [
    "def activate(w, b, X):\n",
    "    Z = np.dot(w.T, X) + b.T\n",
    "    return softmax(Z)"
   ],
   "id": "f48246083a5d6b9a",
   "outputs": [],
   "execution_count": 90
  },
  {
   "metadata": {
    "ExecuteTime": {
     "end_time": "2025-01-16T21:10:03.310974Z",
     "start_time": "2025-01-16T21:10:03.308241Z"
    }
   },
   "cell_type": "code",
   "source": [
    "def gradient(w, b, X, Y, print_cost=False):\n",
    "    m = X.shape[1]\n",
    "    A = activate(w, b, X)\n",
    "    cost = cross_entropy_loss(A, Y)\n",
    "    if print_cost:\n",
    "        print(\"Cost function:\", cost)\n",
    "    dw = (1 / m) * np.dot(X, (A - Y).T)\n",
    "    db = (1 / m) * np.sum(A - Y, axis=1, keepdims=True).T\n",
    "    return dw, db"
   ],
   "id": "107ab379eceab9c8",
   "outputs": [],
   "execution_count": 91
  },
  {
   "metadata": {
    "ExecuteTime": {
     "end_time": "2025-01-16T21:10:03.355748Z",
     "start_time": "2025-01-16T21:10:03.353721Z"
    }
   },
   "cell_type": "code",
   "source": [
    "def initialize_weight_bias(n):\n",
    "    w = np.zeros((n, num_classes))\n",
    "    b = np.zeros((1, num_classes))\n",
    "    return w, b"
   ],
   "id": "d976735dc8319d2e",
   "outputs": [],
   "execution_count": 92
  },
  {
   "metadata": {
    "ExecuteTime": {
     "end_time": "2025-01-16T21:10:03.401223Z",
     "start_time": "2025-01-16T21:10:03.398569Z"
    }
   },
   "cell_type": "code",
   "source": [
    "def train(X, Y, iterations=1000, learning_rate=0.01):\n",
    "    w, b = initialize_weight_bias(X.shape[0])\n",
    "    for i in range(iterations):\n",
    "        dw, db = gradient(w, b, X, Y, print_cost=(i % 100 == 0))\n",
    "        w = w - learning_rate * dw\n",
    "        b = b - learning_rate * db\n",
    "    return w, b"
   ],
   "id": "942f6da6b84c04ab",
   "outputs": [],
   "execution_count": 93
  },
  {
   "metadata": {
    "ExecuteTime": {
     "end_time": "2025-01-16T21:10:03.446095Z",
     "start_time": "2025-01-16T21:10:03.443939Z"
    }
   },
   "cell_type": "code",
   "source": [
    "def predict(w, b, X):\n",
    "    return activate(w, b, X)"
   ],
   "id": "3392d93808fc0bb9",
   "outputs": [],
   "execution_count": 94
  },
  {
   "metadata": {},
   "cell_type": "markdown",
   "source": "# Train",
   "id": "7ca84675e68cc657"
  },
  {
   "metadata": {
    "ExecuteTime": {
     "end_time": "2025-01-16T21:10:03.840164Z",
     "start_time": "2025-01-16T21:10:03.490169Z"
    }
   },
   "cell_type": "code",
   "source": [
    "w, b = train(X_train, y_train_one_hot)\n",
    "print(\"w.shape:\", w.shape)\n",
    "print(\"b.shape:\", b.shape)"
   ],
   "id": "12b6a6e89c340f8b",
   "outputs": [
    {
     "name": "stdout",
     "output_type": "stream",
     "text": [
      "Cost function: 2.3025850929940455\n",
      "Cost function: 0.17146853273112825\n",
      "Cost function: 0.12412853072466074\n",
      "Cost function: 0.1022488751849838\n",
      "Cost function: 0.08859111404729746\n",
      "Cost function: 0.07891657361484558\n",
      "Cost function: 0.07157057027836246\n",
      "Cost function: 0.06573681058215311\n",
      "Cost function: 0.060954522472020364\n",
      "Cost function: 0.05694036554506138\n",
      "w.shape: (64, 10)\n",
      "b.shape: (1, 10)\n"
     ]
    }
   ],
   "execution_count": 95
  },
  {
   "metadata": {},
   "cell_type": "markdown",
   "source": "# Test",
   "id": "9e459ece8a9235a9"
  },
  {
   "metadata": {
    "ExecuteTime": {
     "end_time": "2025-01-16T21:10:03.861016Z",
     "start_time": "2025-01-16T21:10:03.856777Z"
    }
   },
   "cell_type": "code",
   "source": [
    "Y_train_pred_multiple = predict(w, b, X_train)\n",
    "Y_test_pred_multiple = predict(w, b, X_test)\n",
    "\n",
    "print(\"Y_train_pred.shape:\", Y_train_pred_multiple.shape)\n",
    "print(\"Y_test_pred.shape:\", Y_test_pred_multiple.shape)\n",
    "\n",
    "for i in range(num_classes):\n",
    "    Y_train = y_train_one_hot[i]\n",
    "    Y_test = y_test_one_hot[i]\n",
    "    Y_train_pred = Y_train_pred_multiple[i]\n",
    "    Y_test_pred = Y_test_pred_multiple[i]\n",
    "    print(\"Class:\", i)\n",
    "    print(\"Train accuracy:\", 1 - np.mean(np.abs(Y_train - Y_train_pred)))\n",
    "    print(\"Test accuracy:\", 1 - np.mean(np.abs(Y_test - Y_test_pred)))"
   ],
   "id": "ae6fa3f77c26280e",
   "outputs": [
    {
     "name": "stdout",
     "output_type": "stream",
     "text": [
      "Y_train_pred.shape: (10, 1437)\n",
      "Y_test_pred.shape: (10, 360)\n",
      "Class: 0\n",
      "Train accuracy: 0.9978319127141045\n",
      "Test accuracy: 0.9961507880283054\n",
      "Class: 1\n",
      "Train accuracy: 0.9848868611687671\n",
      "Test accuracy: 0.9854868290141805\n",
      "Class: 2\n",
      "Train accuracy: 0.9959266813783749\n",
      "Test accuracy: 0.9904412744991554\n",
      "Class: 3\n",
      "Train accuracy: 0.9906781156600158\n",
      "Test accuracy: 0.9911127967976893\n",
      "Class: 4\n",
      "Train accuracy: 0.9938489378684695\n",
      "Test accuracy: 0.9929147637983933\n",
      "Class: 5\n",
      "Train accuracy: 0.9928981876393045\n",
      "Test accuracy: 0.9809316427094843\n",
      "Class: 6\n",
      "Train accuracy: 0.9955751637095441\n",
      "Test accuracy: 0.992352018970955\n",
      "Class: 7\n",
      "Train accuracy: 0.9956236925866137\n",
      "Test accuracy: 0.9940468312704313\n",
      "Class: 8\n",
      "Train accuracy: 0.9804972886175651\n",
      "Test accuracy: 0.9830233255550862\n",
      "Class: 9\n",
      "Train accuracy: 0.9877049956982737\n",
      "Test accuracy: 0.9807158857914428\n"
     ]
    }
   ],
   "execution_count": 96
  },
  {
   "metadata": {
    "ExecuteTime": {
     "end_time": "2025-01-16T21:16:22.469011Z",
     "start_time": "2025-01-16T21:16:21.694567Z"
    }
   },
   "cell_type": "code",
   "source": [
    "np.set_printoptions(precision=4, suppress=True, floatmode='fixed')\n",
    "for i in range(10):\n",
    "    prediction = Y_test_pred_multiple[:, i]\n",
    "    actual = y_test_one_hot[:, i]\n",
    "    print(\"test sample:\", i)\n",
    "    print(\"Prediction:\", prediction)\n",
    "    print(\"Actual:\", actual, \"(\", y_test[:, i], \")\")\n",
    "    plt.imshow(X_test[:, i].reshape(8, 8), cmap='gray')\n",
    "    plt.show()"
   ],
   "id": "593ae1fb89fa6d6e",
   "outputs": [
    {
     "name": "stdout",
     "output_type": "stream",
     "text": [
      "test sample: 0\n",
      "Prediction: [0.0000 0.0000 0.0000 0.0000 0.0000 0.0000 0.9996 0.0000 0.0004 0.0000]\n",
      "Actual: [0.0000 0.0000 0.0000 0.0000 0.0000 0.0000 1.0000 0.0000 0.0000 0.0000] ( [6] )\n"
     ]
    },
    {
     "data": {
      "text/plain": [
       "<Figure size 640x480 with 1 Axes>"
      ],
      "image/png": "[encoded data removed]"
     },
     "metadata": {},
     "output_type": "display_data"
    },
    {
     "name": "stdout",
     "output_type": "stream",
     "text": [
      "test sample: 1\n",
      "Prediction: [0.0003 0.0000 0.0000 0.0004 0.0002 0.0469 0.0000 0.0001 0.0001 0.9520]\n",
      "Actual: [0.0000 0.0000 0.0000 0.0000 0.0000 0.0000 0.0000 0.0000 0.0000 1.0000] ( [9] )\n"
     ]
    },
    {
     "data": {
      "text/plain": [
       "<Figure size 640x480 with 1 Axes>"
      ],
      "image/png": "[encoded data removed]"
     },
     "metadata": {},
     "output_type": "display_data"
    },
    {
     "name": "stdout",
     "output_type": "stream",
     "text": [
      "test sample: 2\n",
      "Prediction: [0.0000 0.0000 0.0000 0.9996 0.0000 0.0000 0.0000 0.0000 0.0002 0.0002]\n",
      "Actual: [0.0000 0.0000 0.0000 1.0000 0.0000 0.0000 0.0000 0.0000 0.0000 0.0000] ( [3] )\n"
     ]
    },
    {
     "data": {
      "text/plain": [
       "<Figure size 640x480 with 1 Axes>"
      ],
      "image/png": "[encoded data removed]"
     },
     "metadata": {},
     "output_type": "display_data"
    },
    {
     "name": "stdout",
     "output_type": "stream",
     "text": [
      "test sample: 3\n",
      "Prediction: [0.0030 0.0024 0.0001 0.0001 0.0008 0.0150 0.0000 0.9357 0.0002 0.0428]\n",
      "Actual: [0.0000 0.0000 0.0000 0.0000 0.0000 0.0000 0.0000 1.0000 0.0000 0.0000] ( [7] )\n"
     ]
    },
    {
     "data": {
      "text/plain": [
       "<Figure size 640x480 with 1 Axes>"
      ],
      "image/png": "[encoded data removed]"
     },
     "metadata": {},
     "output_type": "display_data"
    },
    {
     "name": "stdout",
     "output_type": "stream",
     "text": [
      "test sample: 4\n",
      "Prediction: [0.0000 0.0002 0.9010 0.0801 0.0000 0.0002 0.0005 0.0000 0.0177 0.0002]\n",
      "Actual: [0.0000 0.0000 1.0000 0.0000 0.0000 0.0000 0.0000 0.0000 0.0000 0.0000] ( [2] )\n"
     ]
    },
    {
     "data": {
      "text/plain": [
       "<Figure size 640x480 with 1 Axes>"
      ],
      "image/png": "[encoded data removed]"
     },
     "metadata": {},
     "output_type": "display_data"
    },
    {
     "name": "stdout",
     "output_type": "stream",
     "text": [
      "test sample: 5\n",
      "Prediction: [0.0000 0.6133 0.3253 0.0000 0.0005 0.0246 0.0034 0.0000 0.0327 0.0002]\n",
      "Actual: [0.0000 1.0000 0.0000 0.0000 0.0000 0.0000 0.0000 0.0000 0.0000 0.0000] ( [1] )\n"
     ]
    },
    {
     "data": {
      "text/plain": [
       "<Figure size 640x480 with 1 Axes>"
      ],
      "image/png": "[encoded data removed]"
     },
     "metadata": {},
     "output_type": "display_data"
    },
    {
     "name": "stdout",
     "output_type": "stream",
     "text": [
      "test sample: 6\n",
      "Prediction: [0.0000 0.0000 0.0000 0.0006 0.0000 0.9988 0.0000 0.0000 0.0003 0.0001]\n",
      "Actual: [0.0000 0.0000 0.0000 0.0000 0.0000 1.0000 0.0000 0.0000 0.0000 0.0000] ( [5] )\n"
     ]
    },
    {
     "data": {
      "text/plain": [
       "<Figure size 640x480 with 1 Axes>"
      ],
      "image/png": "[encoded data removed]"
     },
     "metadata": {},
     "output_type": "display_data"
    },
    {
     "name": "stdout",
     "output_type": "stream",
     "text": [
      "test sample: 7\n",
      "Prediction: [0.0001 0.0004 0.9659 0.0331 0.0000 0.0000 0.0000 0.0002 0.0001 0.0003]\n",
      "Actual: [0.0000 0.0000 1.0000 0.0000 0.0000 0.0000 0.0000 0.0000 0.0000 0.0000] ( [2] )\n"
     ]
    },
    {
     "data": {
      "text/plain": [
       "<Figure size 640x480 with 1 Axes>"
      ],
      "image/png": "[encoded data removed]"
     },
     "metadata": {},
     "output_type": "display_data"
    },
    {
     "name": "stdout",
     "output_type": "stream",
     "text": [
      "test sample: 8\n",
      "Prediction: [0.0000 0.0000 0.0000 0.0001 0.0001 0.9995 0.0000 0.0002 0.0000 0.0000]\n",
      "Actual: [0.0000 0.0000 0.0000 0.0000 0.0000 1.0000 0.0000 0.0000 0.0000 0.0000] ( [5] )\n"
     ]
    },
    {
     "data": {
      "text/plain": [
       "<Figure size 640x480 with 1 Axes>"
      ],
      "image/png": "[encoded data removed]"
     },
     "metadata": {},
     "output_type": "display_data"
    },
    {
     "name": "stdout",
     "output_type": "stream",
     "text": [
      "test sample: 9\n",
      "Prediction: [0.0000 0.0000 0.9332 0.0614 0.0000 0.0000 0.0000 0.0053 0.0000 0.0000]\n",
      "Actual: [0.0000 0.0000 1.0000 0.0000 0.0000 0.0000 0.0000 0.0000 0.0000 0.0000] ( [2] )\n"
     ]
    },
    {
     "data": {
      "text/plain": [
       "<Figure size 640x480 with 1 Axes>"
      ],
      "image/png": "[encoded data removed]"
     },
     "metadata": {},
     "output_type": "display_data"
    }
   ],
   "execution_count": 103
  }
 ],
 "metadata": {
  "kernelspec": {
   "display_name": "Python 3",
   "language": "python",
   "name": "python3"
  },
  "language_info": {
   "codemirror_mode": {
    "name": "ipython",
    "version": 2
   },
   "file_extension": ".py",
   "mimetype": "text/x-python",
   "name": "python",
   "nbconvert_exporter": "python",
   "pygments_lexer": "ipython2",
   "version": "2.7.6"
  }
 },
 "nbformat": 4,
 "nbformat_minor": 5
}
